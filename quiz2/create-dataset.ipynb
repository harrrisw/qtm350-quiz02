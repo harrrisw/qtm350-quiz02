{
 "cells": [
  {
   "cell_type": "markdown",
   "metadata": {},
   "source": [
    "## Create the Gapminder dataset"
   ]
  },
  {
   "cell_type": "code",
   "execution_count": 3,
   "metadata": {},
   "outputs": [
    {
     "name": "stdout",
     "output_type": "stream",
     "text": [
      "       country continent  year  life_expectancy  population_millions  \\\n",
      "0  Afghanistan      Asia  1952           28.801             8.425333   \n",
      "1  Afghanistan      Asia  1957           30.332             9.240934   \n",
      "2  Afghanistan      Asia  1962           31.997            10.267083   \n",
      "\n",
      "   gdp_per_capita  \n",
      "0      779.445314  \n",
      "1      820.853030  \n",
      "2      853.100710  \n"
     ]
    }
   ],
   "source": [
    "# Import necessary libraries\n",
    "import pandas as pd\n",
    "from gapminder import gapminder\n",
    "\n",
    "# Rename 'lifeExp' to 'life_expectancy' and 'gdpPercap' to 'gdp_per_capita'\n",
    "gapminder = gapminder.rename(columns={'lifeExp': 'life_expectancy',\n",
    "                                      'pop': 'population_millions', \n",
    "                                      'gdpPercap': 'gdp_per_capita'})\n",
    "\n",
    "# Convert population to millions\n",
    "gapminder['population_millions'] = gapminder['population_millions'] / 1_000_000\n",
    "\n",
    "# Create a new pandas DataFrame from the modified gapminder data\n",
    "gapminder_df = pd.DataFrame(gapminder)\n",
    "\n",
    "# Save the DataFrame as a CSV file\n",
    "gapminder_df.to_csv('gapminder.csv', index=False)\n",
    "\n",
    "# Print the first 3 rows of the DataFrame\n",
    "print(gapminder_df.head(3))"
   ]
  },
  {
   "cell_type": "code",
   "execution_count": 2,
   "metadata": {},
   "outputs": [
    {
     "name": "stdout",
     "output_type": "stream",
     "text": [
      "Collecting gapminder\n",
      "  Downloading gapminder-0.1-py3-none-any.whl (32 kB)\n",
      "Requirement already satisfied: pandas in c:\\users\\hahaha\\anaconda3\\lib\\site-packages (from gapminder) (1.2.4)\n",
      "Requirement already satisfied: python-dateutil>=2.7.3 in c:\\users\\hahaha\\anaconda3\\lib\\site-packages (from pandas->gapminder) (2.8.2)\n",
      "Requirement already satisfied: numpy>=1.16.5 in c:\\users\\hahaha\\anaconda3\\lib\\site-packages (from pandas->gapminder) (1.19.2)Note: you may need to restart the kernel to use updated packages.\n",
      "Requirement already satisfied: pytz>=2017.3 in c:\\users\\hahaha\\anaconda3\\lib\\site-packages (from pandas->gapminder) (2022.7)\n",
      "Requirement already satisfied: six>=1.5 in c:\\users\\hahaha\\anaconda3\\lib\\site-packages (from python-dateutil>=2.7.3->pandas->gapminder) (1.16.0)\n",
      "Installing collected packages: gapminder\n",
      "Successfully installed gapminder-0.1\n",
      "\n"
     ]
    }
   ],
   "source": [
    "pip install gapminder"
   ]
  }
 ],
 "metadata": {
  "kernelspec": {
   "display_name": "base",
   "language": "python",
   "name": "python3"
  },
  "language_info": {
   "codemirror_mode": {
    "name": "ipython",
    "version": 3
   },
   "file_extension": ".py",
   "mimetype": "text/x-python",
   "name": "python",
   "nbconvert_exporter": "python",
   "pygments_lexer": "ipython3",
   "version": "3.7.11"
  }
 },
 "nbformat": 4,
 "nbformat_minor": 2
}
